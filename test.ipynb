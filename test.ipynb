{
 "cells": [
  {
   "cell_type": "code",
   "execution_count": null,
   "metadata": {
    "vscode": {
     "languageId": "plaintext"
    }
   },
   "outputs": [],
   "source": [
    "!pip install torch==2.3.1+cu121 torchvision==0.18.1+cu121 torchaudio==2.3.1+cu121 torchtext==0.18.0 torchdata==0.8.0 --extra-index-url https://download.pytorch.org/whl/cu121\n",
    "!pip install xformers==0.0.27"
   ]
  },
  {
   "cell_type": "code",
   "execution_count": null,
   "metadata": {
    "vscode": {
     "languageId": "plaintext"
    }
   },
   "outputs": [],
   "source": [
    "!git clone https://github.com/theroyallab/tabbyAPI\n",
    "%cd /content/tabbyAPI\n",
    "!pip install -U .[cu121]\n",
    "\n",
    "!aria2c --console-log-level=error -c -x 16 -s 16 -k 1M https://huggingface.co/janhq/llama3-s-instruct-v0.3-checkpoint-7000-phase-3-exllama2/raw/main/config.json -d /content/tabbyAPI/models/llama3s -o config.json\n",
    "!aria2c --console-log-level=error -c -x 16 -s 16 -k 1M https://huggingface.co/janhq/llama3-s-instruct-v0.3-checkpoint-7000-phase-3-exllama2/raw/main/generation_config.json -d /content/tabbyAPI/models/llama3s -o generation_config.json\n",
    "!aria2c --console-log-level=error -c -x 16 -s 16 -k 1M https://huggingface.co/janhq/llama3-s-instruct-v0.3-checkpoint-7000-phase-3-exllama2/raw/main/loss_log.txt -d /content/tabbyAPI/models/llama3s -o loss_log.txt\n",
    "!aria2c --console-log-level=error -c -x 16 -s 16 -k 1M https://huggingface.co/janhq/llama3-s-instruct-v0.3-checkpoint-7000-phase-3-exllama2/raw/main/model.safetensors.index.json -d /content/tabbyAPI/models/llama3s -o model.safetensors.index.json\n",
    "!aria2c --console-log-level=error -c -x 16 -s 16 -k 1M https://huggingface.co/janhq/llama3-s-instruct-v0.3-checkpoint-7000-phase-3-exllama2/resolve/main/output.safetensors -d /content/tabbyAPI/models/llama3s -o output.safetensors\n",
    "!aria2c --console-log-level=error -c -x 16 -s 16 -k 1M https://huggingface.co/janhq/llama3-s-instruct-v0.3-checkpoint-7000-phase-3-exllama2/raw/main/special_tokens_map.json -d /content/tabbyAPI/models/llama3s -o special_tokens_map.json\n",
    "!aria2c --console-log-level=error -c -x 16 -s 16 -k 1M https://huggingface.co/janhq/llama3-s-instruct-v0.3-checkpoint-7000-phase-3-exllama2/raw/main/tokenizer.json -d /content/tabbyAPI/models/llama3s -o tokenizer.json\n",
    "!aria2c --console-log-level=error -c -x 16 -s 16 -k 1M https://huggingface.co/janhq/llama3-s-instruct-v0.3-checkpoint-7000-phase-3-exllama2/raw/main/tokenizer_config.json -d /content/tabbyAPI/models/llama3s -o tokenizer_config.json\n",
    "!aria2c --console-log-level=error -c -x 16 -s 16 -k 1M https://huggingface.co/janhq/llama3-s-instruct-v0.3-checkpoint-7000-phase-3-exllama2/raw/main/training_config_phase3.yaml -d /content/tabbyAPI/models/llama3s -o training_config_phase3.yaml\n",
    "\n",
    "!python main.py"
   ]
  },
  {
   "cell_type": "code",
   "execution_count": null,
   "metadata": {
    "vscode": {
     "languageId": "plaintext"
    }
   },
   "outputs": [],
   "source": [
    "!git clone --recursive https://github.com/fishaudio/fish-speech\n",
    "%cd /content/fish-speech\n",
    "\n",
    "!aria2c --console-log-level=error -c -x 16 -s 16 -k 1M https://huggingface.co/fishaudio/fish-speech-1.4/raw/main/config.json -d /content/fish-speech/checkpoints/fish-speech-1.4 -o config.json\n",
    "!aria2c --console-log-level=error -c -x 16 -s 16 -k 1M https://huggingface.co/fishaudio/fish-speech-1.4/resolve/main/firefly-gan-vq-fsq-8x1024-21hz-generator.pth -d /content/fish-speech/checkpoints/fish-speech-1.4 -o firefly-gan-vq-fsq-8x1024-21hz-generator.pth\n",
    "!aria2c --console-log-level=error -c -x 16 -s 16 -k 1M https://huggingface.co/fishaudio/fish-speech-1.4/resolve/main/model.pth -d /content/fish-speech/checkpoints/fish-speech-1.4 -o model.pth\n",
    "!aria2c --console-log-level=error -c -x 16 -s 16 -k 1M https://huggingface.co/fishaudio/fish-speech-1.4/raw/main/special_tokens_map.json -d /content/fish-speech/checkpoints/fish-speech-1.4 -o special_tokens_map.json\n",
    "!aria2c --console-log-level=error -c -x 16 -s 16 -k 1M https://huggingface.co/fishaudio/fish-speech-1.4/raw/main/tokenizer.json -d /content/fish-speech/checkpoints/fish-speech-1.4 -o tokenizer.json\n",
    "!aria2c --console-log-level=error -c -x 16 -s 16 -k 1M https://huggingface.co/fishaudio/fish-speech-1.4/raw/main/tokenizer_config.json -d /content/fish-speech/checkpoints/fish-speech-1.4 -o tokenizer_config.json\n",
    "\n",
    "%cd /content/fish-speech\n",
    "!pip install -e .[stable]\n",
    "\n",
    "%cd /content/fish-speech/tools\n",
    "# !python api.py\n",
    "!uvicorn 'api:app' --workers 3 --host 0.0.0.0 --port 22311"
   ]
  },
  {
   "cell_type": "code",
   "execution_count": null,
   "metadata": {
    "vscode": {
     "languageId": "plaintext"
    }
   },
   "outputs": [],
   "source": [
    "!git clone -b docker --recursive https://github.com/homebrewltd/ichigo-demo\n",
    "\n",
    "%cd /content/ichigo-demo\n",
    "!npm install\n",
    "!npm run build\n",
    "!npm start"
   ]
  },
  {
   "cell_type": "code",
   "execution_count": null,
   "metadata": {
    "vscode": {
     "languageId": "plaintext"
    }
   },
   "outputs": [],
   "source": [
    "!pip install whisperspeech matplotlib openai-whisper==20231117\n",
    "!pip install git+https://github.com/homebrewltd/WhisperSpeech.git\n",
    "!pip install vector_quantize_pytorch bitsandbytes transformers accelerate webdataset\n",
    "%cd /content\n",
    "\n",
    "# !git clone -b v2.6.3 --recursive https://github.com/Dao-AILab/flash-attention\n",
    "# %cd /content/flash-attention/hopper\n",
    "# !python setup.py install\n",
    "\n",
    "# !git clone -b v2.6.3 --recursive https://github.com/Dao-AILab/flash-attention\n",
    "# %cd /content/flash-attention\n",
    "# !python setup.py install\n",
    "# !pip install --force-reinstall --no-build-isolation /content/flash-attention/flash_attn-2.6.3-cp310-cp310-linux_x86_64.whl\n",
    "\n",
    "!pip install --no-build-isolation  https://github.com/Dao-AILab/flash-attention/releases/download/v2.6.3/flash_attn-2.6.3+cu123torch2.3cxx11abiTRUE-cp310-cp310-linux_x86_64.whl\n",
    "\n",
    "# https://huggingface.co/jan-hq/WhisperVQ/resolve/main/whisper-vq-stoks-v3-7lang-fixed.model (failed)\n",
    "# https://huggingface.co/jan-hq/WhisperVQ/resolve/main/whisper-vq-stoks-medium-en%2Bpl-fixed.model?download=true\n"
   ]
  },
  {
   "cell_type": "code",
   "execution_count": null,
   "metadata": {
    "vscode": {
     "languageId": "plaintext"
    }
   },
   "outputs": [],
   "source": [
    "!mv /content/fish-speech.py /content/fish-speech/tools/api.py\n",
    "!mv /content/tabbyAPI.yml /content/tabbyAPI/config.yml"
   ]
  }
 ],
 "metadata": {
  "language_info": {
   "name": "python"
  }
 },
 "nbformat": 4,
 "nbformat_minor": 2
}
